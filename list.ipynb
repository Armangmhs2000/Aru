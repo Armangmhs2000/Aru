{
 "cells": [
  {
   "cell_type": "code",
   "execution_count": 1,
   "id": "1132ca36-74f0-4c4c-9a57-8e7efb0a4007",
   "metadata": {},
   "outputs": [],
   "source": [
    "l=[2,5,6,78,9]"
   ]
  },
  {
   "cell_type": "code",
   "execution_count": 2,
   "id": "38723fd7-b1c4-4eef-b397-d84127fd49f2",
   "metadata": {},
   "outputs": [
    {
     "data": {
      "text/plain": [
       "2"
      ]
     },
     "execution_count": 2,
     "metadata": {},
     "output_type": "execute_result"
    }
   ],
   "source": [
    "l[0]\n"
   ]
  },
  {
   "cell_type": "code",
   "execution_count": 3,
   "id": "1d781fa4-1dd6-472e-832b-e46ee31e2d5e",
   "metadata": {},
   "outputs": [
    {
     "data": {
      "text/plain": [
       "9"
      ]
     },
     "execution_count": 3,
     "metadata": {},
     "output_type": "execute_result"
    }
   ],
   "source": [
    "l[-1]"
   ]
  },
  {
   "cell_type": "code",
   "execution_count": 4,
   "id": "eb4477da-94f1-49ae-b34c-2f1e9ea659cd",
   "metadata": {},
   "outputs": [
    {
     "data": {
      "text/plain": [
       "list"
      ]
     },
     "execution_count": 4,
     "metadata": {},
     "output_type": "execute_result"
    }
   ],
   "source": [
    "type(l)"
   ]
  },
  {
   "cell_type": "code",
   "execution_count": 5,
   "id": "bf38f732-8a67-4955-9cb8-9f8067a05d13",
   "metadata": {},
   "outputs": [
    {
     "data": {
      "text/plain": [
       "[2, 5]"
      ]
     },
     "execution_count": 5,
     "metadata": {},
     "output_type": "execute_result"
    }
   ],
   "source": [
    "l[0:2]"
   ]
  },
  {
   "cell_type": "code",
   "execution_count": 6,
   "id": "63fe98af-389d-4342-a3c7-072204d1e55e",
   "metadata": {},
   "outputs": [
    {
     "data": {
      "text/plain": [
       "[5, 6]"
      ]
     },
     "execution_count": 6,
     "metadata": {},
     "output_type": "execute_result"
    }
   ],
   "source": [
    "l[1:3]#to see "
   ]
  },
  {
   "cell_type": "code",
   "execution_count": 7,
   "id": "3cee07e3-ebc8-4f00-a9b7-eee46eb28120",
   "metadata": {},
   "outputs": [
    {
     "data": {
      "text/plain": [
       "[5, 6, 78]"
      ]
     },
     "execution_count": 7,
     "metadata": {},
     "output_type": "execute_result"
    }
   ],
   "source": [
    "l[1:4]#to see the 1,2,3 index element"
   ]
  },
  {
   "cell_type": "code",
   "execution_count": 8,
   "id": "f2bd3ac9-8ad9-4edb-9b4a-010e778aaea1",
   "metadata": {},
   "outputs": [],
   "source": [
    "l[0]=8#to replace 0 index element by 8 "
   ]
  },
  {
   "cell_type": "code",
   "execution_count": 9,
   "id": "6906a7b7-16f3-4146-91eb-faa5f81d5bbb",
   "metadata": {},
   "outputs": [
    {
     "data": {
      "text/plain": [
       "[8, 5, 6, 78, 9]"
      ]
     },
     "execution_count": 9,
     "metadata": {},
     "output_type": "execute_result"
    }
   ],
   "source": [
    "l"
   ]
  },
  {
   "cell_type": "code",
   "execution_count": 10,
   "id": "0fb5cdb8-ba7f-471a-b13d-f0f5a8475873",
   "metadata": {},
   "outputs": [],
   "source": [
    "l.append('aru')#to add extra element in the last"
   ]
  },
  {
   "cell_type": "code",
   "execution_count": 11,
   "id": "21e738f9-1ff4-4ea2-88b7-2404c3565c6c",
   "metadata": {},
   "outputs": [
    {
     "data": {
      "text/plain": [
       "[8, 5, 6, 78, 9, 'aru']"
      ]
     },
     "execution_count": 11,
     "metadata": {},
     "output_type": "execute_result"
    }
   ],
   "source": [
    "l"
   ]
  },
  {
   "cell_type": "code",
   "execution_count": 12,
   "id": "a9c63f73-b028-4948-8dbc-a86353a37b2c",
   "metadata": {},
   "outputs": [
    {
     "data": {
      "text/plain": [
       "9"
      ]
     },
     "execution_count": 12,
     "metadata": {},
     "output_type": "execute_result"
    }
   ],
   "source": [
    "l.pop(4)#to delete 4 index element"
   ]
  },
  {
   "cell_type": "code",
   "execution_count": 13,
   "id": "f7346460-f83a-419e-863d-d4020aac966e",
   "metadata": {},
   "outputs": [
    {
     "data": {
      "text/plain": [
       "[8, 5, 6, 78, 'aru']"
      ]
     },
     "execution_count": 13,
     "metadata": {},
     "output_type": "execute_result"
    }
   ],
   "source": [
    "l"
   ]
  },
  {
   "cell_type": "code",
   "execution_count": 14,
   "id": "15600e7d-2f72-4e2d-bbff-2c6b0f9fc1b6",
   "metadata": {},
   "outputs": [],
   "source": [
    "l=[2,3,4,(5,6,7,8)]"
   ]
  },
  {
   "cell_type": "code",
   "execution_count": 15,
   "id": "9ce6800e-a3da-4e8e-8e5f-6a71bb0a2fa6",
   "metadata": {},
   "outputs": [
    {
     "data": {
      "text/plain": [
       "2"
      ]
     },
     "execution_count": 15,
     "metadata": {},
     "output_type": "execute_result"
    }
   ],
   "source": [
    "l[0]"
   ]
  },
  {
   "cell_type": "code",
   "execution_count": 16,
   "id": "ddec74c7-0821-4ec8-8f5f-49db7efad7c0",
   "metadata": {},
   "outputs": [
    {
     "data": {
      "text/plain": [
       "6"
      ]
     },
     "execution_count": 16,
     "metadata": {},
     "output_type": "execute_result"
    }
   ],
   "source": [
    "l[3][1]\n",
    "#to see the 3rd index element of "
   ]
  },
  {
   "cell_type": "code",
   "execution_count": 17,
   "id": "2a32956b-a0ad-4e2d-b9c2-01e93597686e",
   "metadata": {},
   "outputs": [
    {
     "name": "stdin",
     "output_type": "stream",
     "text": [
      "enter the index number:  4\n",
      " 1\n"
     ]
    },
    {
     "name": "stdout",
     "output_type": "stream",
     "text": [
      "['1']\n"
     ]
    },
    {
     "name": "stdin",
     "output_type": "stream",
     "text": [
      " 2\n"
     ]
    },
    {
     "name": "stdout",
     "output_type": "stream",
     "text": [
      "['1', '2']\n"
     ]
    },
    {
     "name": "stdin",
     "output_type": "stream",
     "text": [
      " 3\n"
     ]
    },
    {
     "name": "stdout",
     "output_type": "stream",
     "text": [
      "['1', '2', '3']\n"
     ]
    },
    {
     "name": "stdin",
     "output_type": "stream",
     "text": [
      " 4\n"
     ]
    },
    {
     "name": "stdout",
     "output_type": "stream",
     "text": [
      "['1', '2', '3', '4']\n"
     ]
    }
   ],
   "source": [
    "list=[]\n",
    "n=int(input('enter the index number: '))\n",
    "for i in range (n):\n",
    "    new=input()\n",
    "    list.append(new)\n",
    "    print(list)"
   ]
  },
  {
   "cell_type": "code",
   "execution_count": 18,
   "id": "36323d3e-8d47-47b5-aec3-10f43e34cd34",
   "metadata": {},
   "outputs": [],
   "source": [
    "list1=[1,2,3,4,5,6,7,8]"
   ]
  },
  {
   "cell_type": "code",
   "execution_count": 19,
   "id": "c63f899d-c3fe-473e-b5d5-273931c81b39",
   "metadata": {},
   "outputs": [],
   "source": [
    "list2=list1.copy()#list1 will be copied and stored in list2"
   ]
  },
  {
   "cell_type": "code",
   "execution_count": 20,
   "id": "b213e64a-d6f5-4511-9425-0c92c2fed8b6",
   "metadata": {},
   "outputs": [
    {
     "data": {
      "text/plain": [
       "[1, 2, 3, 4, 5, 6, 7, 8]"
      ]
     },
     "execution_count": 20,
     "metadata": {},
     "output_type": "execute_result"
    }
   ],
   "source": [
    "list2"
   ]
  },
  {
   "cell_type": "code",
   "execution_count": 21,
   "id": "fe412274-57af-4bb2-8f5b-6c08f8d0d09c",
   "metadata": {},
   "outputs": [],
   "source": [
    "list1[0]='aru'"
   ]
  },
  {
   "cell_type": "code",
   "execution_count": 22,
   "id": "905f0f52-a7af-4966-8605-8a6022509ffc",
   "metadata": {},
   "outputs": [
    {
     "data": {
      "text/plain": [
       "['aru', 2, 3, 4, 5, 6, 7, 8]"
      ]
     },
     "execution_count": 22,
     "metadata": {},
     "output_type": "execute_result"
    }
   ],
   "source": [
    "list1#list1 will be changed but list2 will be same as earlier"
   ]
  },
  {
   "cell_type": "code",
   "execution_count": 23,
   "id": "2f1c3ecf-54a7-4019-b997-94c1a101e6de",
   "metadata": {},
   "outputs": [
    {
     "data": {
      "text/plain": [
       "[1, 2, 3, 4, 5, 6, 7, 8]"
      ]
     },
     "execution_count": 23,
     "metadata": {},
     "output_type": "execute_result"
    }
   ],
   "source": [
    "list2"
   ]
  },
  {
   "cell_type": "code",
   "execution_count": 24,
   "id": "62523712-3d07-4661-b2f6-ae63e6c9422e",
   "metadata": {},
   "outputs": [],
   "source": [
    "list2.append({2,3,4})"
   ]
  },
  {
   "cell_type": "code",
   "execution_count": 25,
   "id": "ca03e160-9e7a-4dc2-9123-ba0597d97630",
   "metadata": {},
   "outputs": [
    {
     "data": {
      "text/plain": [
       "[1, 2, 3, 4, 5, 6, 7, 8, {2, 3, 4}]"
      ]
     },
     "execution_count": 25,
     "metadata": {},
     "output_type": "execute_result"
    }
   ],
   "source": [
    "list2"
   ]
  },
  {
   "cell_type": "code",
   "execution_count": 26,
   "id": "d8afdf95-86cc-47f6-bb1d-8f362a261e80",
   "metadata": {},
   "outputs": [],
   "source": [
    "list2.append(list1)#to add list into list"
   ]
  },
  {
   "cell_type": "code",
   "execution_count": 27,
   "id": "4b904e0e-fa6e-4fb0-9e02-00ad7d11d7fd",
   "metadata": {},
   "outputs": [
    {
     "data": {
      "text/plain": [
       "[1, 2, 3, 4, 5, 6, 7, 8, {2, 3, 4}, ['aru', 2, 3, 4, 5, 6, 7, 8]]"
      ]
     },
     "execution_count": 27,
     "metadata": {},
     "output_type": "execute_result"
    }
   ],
   "source": [
    "list2"
   ]
  },
  {
   "cell_type": "code",
   "execution_count": 28,
   "id": "4495b2ed-6582-4074-a146-aafb124ee5d0",
   "metadata": {},
   "outputs": [],
   "source": [
    "list1.extend(list2)"
   ]
  },
  {
   "cell_type": "code",
   "execution_count": 29,
   "id": "6df4f713-0480-4074-865a-6017ef59ec24",
   "metadata": {},
   "outputs": [
    {
     "data": {
      "text/plain": [
       "['aru', 2, 3, 4, 5, 6, 7, 8, 1, 2, 3, 4, 5, 6, 7, 8, {2, 3, 4}, [...]]"
      ]
     },
     "execution_count": 29,
     "metadata": {},
     "output_type": "execute_result"
    }
   ],
   "source": [
    "list1"
   ]
  },
  {
   "cell_type": "code",
   "execution_count": 30,
   "id": "dd6c9c99-dece-48d3-93de-09c43bc7a375",
   "metadata": {},
   "outputs": [],
   "source": [
    "li1=[1,2,3]"
   ]
  },
  {
   "cell_type": "code",
   "execution_count": 31,
   "id": "e24110ab-b0e4-4990-b2c6-4b0b6f675f3b",
   "metadata": {},
   "outputs": [],
   "source": [
    "li2=[4,5,6]"
   ]
  },
  {
   "cell_type": "code",
   "execution_count": 32,
   "id": "f5a0a636-0b81-4c97-ac32-4537673bf656",
   "metadata": {},
   "outputs": [],
   "source": [
    "li1.extend(li2)#adds all elementsm of one list to another list"
   ]
  },
  {
   "cell_type": "code",
   "execution_count": 33,
   "id": "49349b08-b66e-485a-9e8a-650cf738190a",
   "metadata": {},
   "outputs": [
    {
     "data": {
      "text/plain": [
       "[1, 2, 3, 4, 5, 6]"
      ]
     },
     "execution_count": 33,
     "metadata": {},
     "output_type": "execute_result"
    }
   ],
   "source": [
    "li1"
   ]
  },
  {
   "cell_type": "code",
   "execution_count": 34,
   "id": "81f3a5b9-1a19-459a-ba81-4a0aee121136",
   "metadata": {},
   "outputs": [],
   "source": [
    "li1.append(li2)"
   ]
  },
  {
   "cell_type": "code",
   "execution_count": 35,
   "id": "81d77b22-546e-402e-a9c5-8dff76b88745",
   "metadata": {},
   "outputs": [
    {
     "data": {
      "text/plain": [
       "[1, 2, 3, 4, 5, 6, [4, 5, 6]]"
      ]
     },
     "execution_count": 35,
     "metadata": {},
     "output_type": "execute_result"
    }
   ],
   "source": [
    "li1"
   ]
  },
  {
   "cell_type": "code",
   "execution_count": 36,
   "id": "a7aa0844-cacb-45af-be3a-ffcf7edf43f4",
   "metadata": {},
   "outputs": [],
   "source": [
    "li1.insert(0,'aruf')#new element will appear in zero index"
   ]
  },
  {
   "cell_type": "code",
   "execution_count": 37,
   "id": "1169bb51-1e1e-4fa5-97cd-fea2d662ba79",
   "metadata": {},
   "outputs": [
    {
     "data": {
      "text/plain": [
       "['aruf', 1, 2, 3, 4, 5, 6, [4, 5, 6]]"
      ]
     },
     "execution_count": 37,
     "metadata": {},
     "output_type": "execute_result"
    }
   ],
   "source": [
    "li1"
   ]
  },
  {
   "cell_type": "code",
   "execution_count": 38,
   "id": "e004e440-6209-4bdb-84b4-7105ad179738",
   "metadata": {},
   "outputs": [
    {
     "data": {
      "text/plain": [
       "0"
      ]
     },
     "execution_count": 38,
     "metadata": {},
     "output_type": "execute_result"
    }
   ],
   "source": [
    "li1.index('aruf')#to check the index number of element"
   ]
  },
  {
   "cell_type": "code",
   "execution_count": 39,
   "id": "f8a3557b-e366-448c-ba3a-e526f5865e5c",
   "metadata": {},
   "outputs": [
    {
     "data": {
      "text/plain": [
       "1"
      ]
     },
     "execution_count": 39,
     "metadata": {},
     "output_type": "execute_result"
    }
   ],
   "source": [
    "li1.count(4)#to check that how many times element 4 available"
   ]
  },
  {
   "cell_type": "code",
   "execution_count": 40,
   "id": "adb4e187-075e-4d10-ae2d-b4f627e3225e",
   "metadata": {},
   "outputs": [],
   "source": [
    "l3=[5,9,2,70,4,90]"
   ]
  },
  {
   "cell_type": "code",
   "execution_count": 41,
   "id": "5ba8aedf-2062-4841-8b71-3e909554eed4",
   "metadata": {},
   "outputs": [],
   "source": [
    "l3.sort()#to set ascending order"
   ]
  },
  {
   "cell_type": "code",
   "execution_count": 42,
   "id": "08edbaa6-1d32-44d7-a07f-560cdcd6bb43",
   "metadata": {},
   "outputs": [
    {
     "data": {
      "text/plain": [
       "[2, 4, 5, 9, 70, 90]"
      ]
     },
     "execution_count": 42,
     "metadata": {},
     "output_type": "execute_result"
    }
   ],
   "source": [
    "l3"
   ]
  },
  {
   "cell_type": "code",
   "execution_count": 43,
   "id": "e051387b-a5d6-4127-a44a-aa20c27291a2",
   "metadata": {},
   "outputs": [],
   "source": [
    "l3.reverse()# just reverse the elements"
   ]
  },
  {
   "cell_type": "code",
   "execution_count": 44,
   "id": "f0a21c21-371e-4c29-a5fd-cc99792bd51d",
   "metadata": {},
   "outputs": [
    {
     "data": {
      "text/plain": [
       "[90, 70, 9, 5, 4, 2]"
      ]
     },
     "execution_count": 44,
     "metadata": {},
     "output_type": "execute_result"
    }
   ],
   "source": [
    "l3"
   ]
  },
  {
   "cell_type": "code",
   "execution_count": 45,
   "id": "9e32b30d-b2c7-4fb5-9cc6-b7f84d3aa5f4",
   "metadata": {},
   "outputs": [],
   "source": [
    "l3.remove(90)#just remove the element 90"
   ]
  },
  {
   "cell_type": "code",
   "execution_count": 46,
   "id": "314489fa-3f06-48ed-b24e-4e4cbf791a03",
   "metadata": {},
   "outputs": [
    {
     "data": {
      "text/plain": [
       "[70, 9, 5, 4, 2]"
      ]
     },
     "execution_count": 46,
     "metadata": {},
     "output_type": "execute_result"
    }
   ],
   "source": [
    "l3"
   ]
  },
  {
   "cell_type": "code",
   "execution_count": 47,
   "id": "9cac3d0d-be85-4a69-9560-b8ba1e5f544e",
   "metadata": {},
   "outputs": [],
   "source": [
    "del l3[0]#delete the zero index value"
   ]
  },
  {
   "cell_type": "code",
   "execution_count": 48,
   "id": "8d5bf14e-b3c9-4981-a426-e912f71320e0",
   "metadata": {},
   "outputs": [
    {
     "data": {
      "text/plain": [
       "[9, 5, 4, 2]"
      ]
     },
     "execution_count": 48,
     "metadata": {},
     "output_type": "execute_result"
    }
   ],
   "source": [
    "l3"
   ]
  },
  {
   "cell_type": "code",
   "execution_count": 49,
   "id": "83bd9e32-ac94-44e1-86e0-8b38bdd625bd",
   "metadata": {},
   "outputs": [],
   "source": [
    "l3.clear()#to clear all elements of l3 list"
   ]
  },
  {
   "cell_type": "code",
   "execution_count": 50,
   "id": "50602766-6cc8-4f38-8d09-ec609b98fec1",
   "metadata": {},
   "outputs": [
    {
     "data": {
      "text/plain": [
       "[]"
      ]
     },
     "execution_count": 50,
     "metadata": {},
     "output_type": "execute_result"
    }
   ],
   "source": [
    "l3"
   ]
  },
  {
   "cell_type": "code",
   "execution_count": 51,
   "id": "39549035-6534-4ba9-ad8b-05150c93f00f",
   "metadata": {},
   "outputs": [],
   "source": [
    "cube=[x**3 for x in range(10)]#to make a list containing cube of 0 to 9"
   ]
  },
  {
   "cell_type": "code",
   "execution_count": 52,
   "id": "b614a1a2-014c-4b57-bc49-c45dfa2f13a2",
   "metadata": {},
   "outputs": [
    {
     "data": {
      "text/plain": [
       "[0, 1, 8, 27, 64, 125, 216, 343, 512, 729]"
      ]
     },
     "execution_count": 52,
     "metadata": {},
     "output_type": "execute_result"
    }
   ],
   "source": [
    "cube"
   ]
  },
  {
   "cell_type": "code",
   "execution_count": 53,
   "id": "1a998a1e-a638-4364-bd7d-ab0b23cf9ff6",
   "metadata": {},
   "outputs": [
    {
     "data": {
      "text/plain": [
       "[0, 1, 2, 3, 4, 5, 6, 7, 8, 9]"
      ]
     },
     "execution_count": 53,
     "metadata": {},
     "output_type": "execute_result"
    }
   ],
   "source": [
    "[x for x in range (10)]#0 to 9 print"
   ]
  },
  {
   "cell_type": "code",
   "execution_count": 54,
   "id": "3583e5e9-dd8a-44a4-8130-328a8cfee8c5",
   "metadata": {},
   "outputs": [],
   "source": [
    "even=[x for x in range(10) if x%2==0]"
   ]
  },
  {
   "cell_type": "code",
   "execution_count": 55,
   "id": "9c5c2ac1-d2c3-4875-9677-72622d1040e0",
   "metadata": {},
   "outputs": [
    {
     "data": {
      "text/plain": [
       "[0, 2, 4, 6, 8]"
      ]
     },
     "execution_count": 55,
     "metadata": {},
     "output_type": "execute_result"
    }
   ],
   "source": [
    "even\n"
   ]
  },
  {
   "cell_type": "code",
   "execution_count": 56,
   "id": "36e390f6-6533-433d-85aa-b831b9311b66",
   "metadata": {},
   "outputs": [
    {
     "data": {
      "text/plain": [
       "['i',\n",
       " ' ',\n",
       " 'r',\n",
       " 'e',\n",
       " 'a',\n",
       " 'l',\n",
       " 'l',\n",
       " 'y',\n",
       " ' ',\n",
       " 'l',\n",
       " 'o',\n",
       " 'v',\n",
       " 'e',\n",
       " ' ',\n",
       " 'y',\n",
       " 'o',\n",
       " 'u']"
      ]
     },
     "execution_count": 56,
     "metadata": {},
     "output_type": "execute_result"
    }
   ],
   "source": [
    "data='i really love you'\n",
    "[x for x in data]\n",
    "#every character in a list"
   ]
  },
  {
   "cell_type": "code",
   "execution_count": 57,
   "id": "4839d4da-4965-436b-a651-b4e7adbfe051",
   "metadata": {},
   "outputs": [
    {
     "data": {
      "text/plain": [
       "['i', ' ', 'r', 'e', 'a', 'l', 'l', 'y', ' ', 'l', 'v', 'e', ' ', 'y', 'u']"
      ]
     },
     "execution_count": 57,
     "metadata": {},
     "output_type": "execute_result"
    }
   ],
   "source": [
    "data='i really love you'\n",
    "[x for x in data if x!='o']\n",
    "#to diminish all o from data and make list"
   ]
  },
  {
   "cell_type": "code",
   "execution_count": 58,
   "id": "7b45fa71-54ce-47f6-b41b-d892aed861c6",
   "metadata": {},
   "outputs": [
    {
     "data": {
      "text/plain": [
       "['i', 'really', 'love', 'you']"
      ]
     },
     "execution_count": 58,
     "metadata": {},
     "output_type": "execute_result"
    }
   ],
   "source": [
    "data='i really love you'\n",
    "data=data.split()\n",
    "[x for x in data if x!='o']"
   ]
  },
  {
   "cell_type": "code",
   "execution_count": 59,
   "id": "d588da05-75da-4d25-9c06-94d36e8dd850",
   "metadata": {},
   "outputs": [
    {
     "name": "stdout",
     "output_type": "stream",
     "text": [
      "[[0, 1, 2, 3, 4, 5, 6, 7, 8, 9], [0, 1, 2, 3, 4, 5, 6, 7, 8, 9], [0, 1, 2, 3, 4, 5, 6, 7, 8, 9]]\n"
     ]
    }
   ],
   "source": [
    "matrix=[[j for j in range(10)] for i in range(3)]\n",
    "print(matrix)\n",
    "#to make matrix where j is from 0 to 9 and i is 0 to 2;"
   ]
  },
  {
   "cell_type": "code",
   "execution_count": 60,
   "id": "589668a4-0f17-4a51-b130-157c22686e02",
   "metadata": {},
   "outputs": [
    {
     "name": "stdout",
     "output_type": "stream",
     "text": [
      "[6, 9, 4]\n"
     ]
    }
   ],
   "source": [
    "words=['strong','emotional','cute']\n",
    "lengths=[len(word) for word in words]\n",
    "print(lengths)\n",
    "#to see the word length;word value is 0,1,2"
   ]
  }
 ],
 "metadata": {
  "kernelspec": {
   "display_name": "Python 3 (ipykernel)",
   "language": "python",
   "name": "python3"
  },
  "language_info": {
   "codemirror_mode": {
    "name": "ipython",
    "version": 3
   },
   "file_extension": ".py",
   "mimetype": "text/x-python",
   "name": "python",
   "nbconvert_exporter": "python",
   "pygments_lexer": "ipython3",
   "version": "3.13.7"
  }
 },
 "nbformat": 4,
 "nbformat_minor": 5
}
